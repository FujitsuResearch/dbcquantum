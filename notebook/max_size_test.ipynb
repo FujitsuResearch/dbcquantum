{
 "cells": [
  {
   "cell_type": "code",
   "execution_count": 1,
   "metadata": {},
   "outputs": [],
   "source": [
    "from math import pi, sqrt\n",
    "from cmath import exp\n",
    "from qiskit.opflow import One, StateFn, Zero, Plus, Minus\n",
    "from qiskit.quantum_info import Statevector\n",
    "\n",
    "from dbcquantum.circuit import AssertQuantumCircuit\n",
    "from dbcquantum.utils import (\n",
    "    eq_state,\n",
    "    split_each_qubit_states,\n",
    "    to_Statevector, _check_index\n",
    ")"
   ]
  },
  {
   "cell_type": "code",
   "execution_count": 2,
   "metadata": {},
   "outputs": [],
   "source": [
    "def f(num_qubits: int):\n",
    "    qc = AssertQuantumCircuit(num_qubits)\n",
    "    state = Plus\n",
    "\n",
    "    for i in range(num_qubits):\n",
    "        qc.h(i)\n",
    "    \n",
    "    for i in range(num_qubits -1):\n",
    "        # print(i)\n",
    "        state = state ^ Plus\n",
    "\n",
    "    print(to_Statevector(state))\n",
    "    # qc.add_post_condition(\"condition2\", lambda post: eq_state(post, state))\n",
    "    # qc.run()"
   ]
  },
  {
   "cell_type": "code",
   "execution_count": 3,
   "metadata": {},
   "outputs": [
    {
     "name": "stdout",
     "output_type": "stream",
     "text": [
      "Statevector([0.1767767+0.j, 0.1767767+0.j, 0.1767767+0.j, 0.1767767+0.j,\n",
      "             0.1767767+0.j, 0.1767767+0.j, 0.1767767+0.j, 0.1767767+0.j,\n",
      "             0.1767767+0.j, 0.1767767+0.j, 0.1767767+0.j, 0.1767767+0.j,\n",
      "             0.1767767+0.j, 0.1767767+0.j, 0.1767767+0.j, 0.1767767+0.j,\n",
      "             0.1767767+0.j, 0.1767767+0.j, 0.1767767+0.j, 0.1767767+0.j,\n",
      "             0.1767767+0.j, 0.1767767+0.j, 0.1767767+0.j, 0.1767767+0.j,\n",
      "             0.1767767+0.j, 0.1767767+0.j, 0.1767767+0.j, 0.1767767+0.j,\n",
      "             0.1767767+0.j, 0.1767767+0.j, 0.1767767+0.j, 0.1767767+0.j],\n",
      "            dims=(2, 2, 2, 2, 2))\n"
     ]
    }
   ],
   "source": [
    "f(5)"
   ]
  },
  {
   "cell_type": "code",
   "execution_count": 4,
   "metadata": {},
   "outputs": [
    {
     "name": "stdout",
     "output_type": "stream",
     "text": [
      "Statevector([0.03125+0.j, 0.03125+0.j, 0.03125+0.j, ..., 0.03125+0.j,\n",
      "             0.03125+0.j, 0.03125+0.j],\n",
      "            dims=(2, 2, 2, 2, 2, 2, 2, 2, 2, 2))\n"
     ]
    }
   ],
   "source": [
    "f(10)"
   ]
  },
  {
   "cell_type": "code",
   "execution_count": 5,
   "metadata": {},
   "outputs": [
    {
     "name": "stdout",
     "output_type": "stream",
     "text": [
      "Statevector([0.00097656+0.j, 0.00097656+0.j, 0.00097656+0.j, ...,\n",
      "             0.00097656+0.j, 0.00097656+0.j, 0.00097656+0.j],\n",
      "            dims=(2, 2, 2, 2, 2, 2, 2, 2, 2, 2, 2, 2, 2, 2, 2, 2, 2, 2, 2, 2))\n"
     ]
    }
   ],
   "source": [
    "f(20)"
   ]
  },
  {
   "cell_type": "code",
   "execution_count": 6,
   "metadata": {},
   "outputs": [
    {
     "name": "stdout",
     "output_type": "stream",
     "text": [
      "Statevector([0.00024414+0.j, 0.00024414+0.j, 0.00024414+0.j, ...,\n",
      "             0.00024414+0.j, 0.00024414+0.j, 0.00024414+0.j],\n",
      "            dims=(2, 2, 2, 2, 2, 2, 2, 2, 2, 2, 2, 2, 2, 2, 2, 2, 2, 2, 2, 2, 2, 2, 2, 2))\n"
     ]
    }
   ],
   "source": [
    "f(24)"
   ]
  },
  {
   "cell_type": "code",
   "execution_count": 7,
   "metadata": {},
   "outputs": [
    {
     "ename": "BasicAerError",
     "evalue": "'Number of qubits 25 is greater than maximum (24) for \"statevector_simulator\".'",
     "output_type": "error",
     "traceback": [
      "\u001b[1;31m---------------------------------------------------------------------------\u001b[0m",
      "\u001b[1;31mBasicAerError\u001b[0m                             Traceback (most recent call last)",
      "Cell \u001b[1;32mIn[7], line 1\u001b[0m\n\u001b[1;32m----> 1\u001b[0m \u001b[43mf\u001b[49m\u001b[43m(\u001b[49m\u001b[38;5;241;43m25\u001b[39;49m\u001b[43m)\u001b[49m\n",
      "Cell \u001b[1;32mIn[2], line 12\u001b[0m, in \u001b[0;36mf\u001b[1;34m(num_qubits)\u001b[0m\n\u001b[0;32m      8\u001b[0m \u001b[38;5;28;01mfor\u001b[39;00m i \u001b[38;5;129;01min\u001b[39;00m \u001b[38;5;28mrange\u001b[39m(num_qubits \u001b[38;5;241m-\u001b[39m\u001b[38;5;241m1\u001b[39m):\n\u001b[0;32m      9\u001b[0m     \u001b[38;5;66;03m# print(i)\u001b[39;00m\n\u001b[0;32m     10\u001b[0m     state \u001b[38;5;241m=\u001b[39m state \u001b[38;5;241m^\u001b[39m Plus\n\u001b[1;32m---> 12\u001b[0m \u001b[38;5;28mprint\u001b[39m(\u001b[43mto_Statevector\u001b[49m\u001b[43m(\u001b[49m\u001b[43mstate\u001b[49m\u001b[43m)\u001b[49m)\n",
      "File \u001b[1;32m~\\AppData\\Local\\MyLocal\\dbc_env\\venv\\Lib\\site-packages\\dbcquantum\\utils.py:71\u001b[0m, in \u001b[0;36mto_Statevector\u001b[1;34m(s)\u001b[0m\n\u001b[0;32m     69\u001b[0m     \u001b[38;5;28;01mreturn\u001b[39;00m s\n\u001b[0;32m     70\u001b[0m \u001b[38;5;28;01mcase\u001b[39;00m OperatorBase():\n\u001b[1;32m---> 71\u001b[0m     \u001b[38;5;28;01mreturn\u001b[39;00m Statevector(\u001b[43ms\u001b[49m\u001b[38;5;241;43m.\u001b[39;49m\u001b[43mto_matrix\u001b[49m\u001b[43m(\u001b[49m\u001b[43mmassive\u001b[49m\u001b[38;5;241;43m=\u001b[39;49m\u001b[38;5;28;43;01mTrue\u001b[39;49;00m\u001b[43m)\u001b[49m)\n\u001b[0;32m     72\u001b[0m \u001b[38;5;28;01mcase\u001b[39;00m\u001b[38;5;250m \u001b[39m\u001b[38;5;28;01m_\u001b[39;00m:\n\u001b[0;32m     73\u001b[0m     \u001b[38;5;28;01mreturn\u001b[39;00m Statevector(s)\n",
      "File \u001b[1;32m~\\AppData\\Local\\MyLocal\\dbc_env\\venv\\Lib\\site-packages\\qiskit\\opflow\\state_fns\\circuit_state_fn.py:260\u001b[0m, in \u001b[0;36mCircuitStateFn.to_matrix\u001b[1;34m(self, massive)\u001b[0m\n\u001b[0;32m    258\u001b[0m statevector_backend \u001b[38;5;241m=\u001b[39m BasicAer\u001b[38;5;241m.\u001b[39mget_backend(\u001b[38;5;124m\"\u001b[39m\u001b[38;5;124mstatevector_simulator\u001b[39m\u001b[38;5;124m\"\u001b[39m)\n\u001b[0;32m    259\u001b[0m transpiled \u001b[38;5;241m=\u001b[39m transpile(qc, statevector_backend, optimization_level\u001b[38;5;241m=\u001b[39m\u001b[38;5;241m0\u001b[39m)\n\u001b[1;32m--> 260\u001b[0m statevector \u001b[38;5;241m=\u001b[39m \u001b[43mstatevector_backend\u001b[49m\u001b[38;5;241;43m.\u001b[39;49m\u001b[43mrun\u001b[49m\u001b[43m(\u001b[49m\u001b[43mtranspiled\u001b[49m\u001b[43m)\u001b[49m\u001b[38;5;241m.\u001b[39mresult()\u001b[38;5;241m.\u001b[39mget_statevector()\n\u001b[0;32m    261\u001b[0m \u001b[38;5;28;01mfrom\u001b[39;00m \u001b[38;5;21;01m.\u001b[39;00m\u001b[38;5;21;01m.\u001b[39;00m\u001b[38;5;21;01moperator_globals\u001b[39;00m \u001b[38;5;28;01mimport\u001b[39;00m EVAL_SIG_DIGITS\n\u001b[0;32m    263\u001b[0m \u001b[38;5;28;01mreturn\u001b[39;00m np\u001b[38;5;241m.\u001b[39mround(statevector \u001b[38;5;241m*\u001b[39m \u001b[38;5;28mself\u001b[39m\u001b[38;5;241m.\u001b[39mcoeff, decimals\u001b[38;5;241m=\u001b[39mEVAL_SIG_DIGITS)\n",
      "File \u001b[1;32m~\\AppData\\Local\\MyLocal\\dbc_env\\venv\\Lib\\site-packages\\qiskit\\providers\\basicaer\\qasm_simulator.py:423\u001b[0m, in \u001b[0;36mQasmSimulatorPy.run\u001b[1;34m(self, qobj, **backend_options)\u001b[0m\n\u001b[0;32m    421\u001b[0m \u001b[38;5;28mself\u001b[39m\u001b[38;5;241m.\u001b[39m_set_options(qobj_config\u001b[38;5;241m=\u001b[39mqobj_options, backend_options\u001b[38;5;241m=\u001b[39mbackend_options)\n\u001b[0;32m    422\u001b[0m job_id \u001b[38;5;241m=\u001b[39m \u001b[38;5;28mstr\u001b[39m(uuid\u001b[38;5;241m.\u001b[39muuid4())\n\u001b[1;32m--> 423\u001b[0m job \u001b[38;5;241m=\u001b[39m BasicAerJob(\u001b[38;5;28mself\u001b[39m, job_id, \u001b[38;5;28;43mself\u001b[39;49m\u001b[38;5;241;43m.\u001b[39;49m\u001b[43m_run_job\u001b[49m\u001b[43m(\u001b[49m\u001b[43mjob_id\u001b[49m\u001b[43m,\u001b[49m\u001b[43m \u001b[49m\u001b[43mqobj\u001b[49m\u001b[43m)\u001b[49m)\n\u001b[0;32m    424\u001b[0m \u001b[38;5;28;01mreturn\u001b[39;00m job\n",
      "File \u001b[1;32m~\\AppData\\Local\\MyLocal\\dbc_env\\venv\\Lib\\site-packages\\qiskit\\providers\\basicaer\\qasm_simulator.py:436\u001b[0m, in \u001b[0;36mQasmSimulatorPy._run_job\u001b[1;34m(self, job_id, qobj)\u001b[0m\n\u001b[0;32m    426\u001b[0m \u001b[38;5;28;01mdef\u001b[39;00m \u001b[38;5;21m_run_job\u001b[39m(\u001b[38;5;28mself\u001b[39m, job_id, qobj):\n\u001b[0;32m    427\u001b[0m \u001b[38;5;250m    \u001b[39m\u001b[38;5;124;03m\"\"\"Run experiments in qobj\u001b[39;00m\n\u001b[0;32m    428\u001b[0m \n\u001b[0;32m    429\u001b[0m \u001b[38;5;124;03m    Args:\u001b[39;00m\n\u001b[1;32m   (...)\u001b[0m\n\u001b[0;32m    434\u001b[0m \u001b[38;5;124;03m        Result: Result object\u001b[39;00m\n\u001b[0;32m    435\u001b[0m \u001b[38;5;124;03m    \"\"\"\u001b[39;00m\n\u001b[1;32m--> 436\u001b[0m     \u001b[38;5;28;43mself\u001b[39;49m\u001b[38;5;241;43m.\u001b[39;49m\u001b[43m_validate\u001b[49m\u001b[43m(\u001b[49m\u001b[43mqobj\u001b[49m\u001b[43m)\u001b[49m\n\u001b[0;32m    437\u001b[0m     result_list \u001b[38;5;241m=\u001b[39m []\n\u001b[0;32m    438\u001b[0m     \u001b[38;5;28mself\u001b[39m\u001b[38;5;241m.\u001b[39m_shots \u001b[38;5;241m=\u001b[39m qobj\u001b[38;5;241m.\u001b[39mconfig\u001b[38;5;241m.\u001b[39mshots\n",
      "File \u001b[1;32m~\\AppData\\Local\\MyLocal\\dbc_env\\venv\\Lib\\site-packages\\qiskit\\providers\\basicaer\\statevector_simulator.py:106\u001b[0m, in \u001b[0;36mStatevectorSimulatorPy._validate\u001b[1;34m(self, qobj)\u001b[0m\n\u001b[0;32m    104\u001b[0m max_qubits \u001b[38;5;241m=\u001b[39m \u001b[38;5;28mself\u001b[39m\u001b[38;5;241m.\u001b[39mconfiguration()\u001b[38;5;241m.\u001b[39mn_qubits\n\u001b[0;32m    105\u001b[0m \u001b[38;5;28;01mif\u001b[39;00m num_qubits \u001b[38;5;241m>\u001b[39m max_qubits:\n\u001b[1;32m--> 106\u001b[0m     \u001b[38;5;28;01mraise\u001b[39;00m BasicAerError(\n\u001b[0;32m    107\u001b[0m         \u001b[38;5;124mf\u001b[39m\u001b[38;5;124m\"\u001b[39m\u001b[38;5;124mNumber of qubits \u001b[39m\u001b[38;5;132;01m{\u001b[39;00mnum_qubits\u001b[38;5;132;01m}\u001b[39;00m\u001b[38;5;124m is greater than maximum (\u001b[39m\u001b[38;5;132;01m{\u001b[39;00mmax_qubits\u001b[38;5;132;01m}\u001b[39;00m\u001b[38;5;124m) \u001b[39m\u001b[38;5;124m\"\u001b[39m\n\u001b[0;32m    108\u001b[0m         \u001b[38;5;124mf\u001b[39m\u001b[38;5;124m'\u001b[39m\u001b[38;5;124mfor \u001b[39m\u001b[38;5;124m\"\u001b[39m\u001b[38;5;132;01m{\u001b[39;00m\u001b[38;5;28mself\u001b[39m\u001b[38;5;241m.\u001b[39mname()\u001b[38;5;132;01m}\u001b[39;00m\u001b[38;5;124m\"\u001b[39m\u001b[38;5;124m.\u001b[39m\u001b[38;5;124m'\u001b[39m\n\u001b[0;32m    109\u001b[0m     )\n\u001b[0;32m    110\u001b[0m \u001b[38;5;28;01mif\u001b[39;00m qobj\u001b[38;5;241m.\u001b[39mconfig\u001b[38;5;241m.\u001b[39mshots \u001b[38;5;241m!=\u001b[39m \u001b[38;5;241m1\u001b[39m:\n\u001b[0;32m    111\u001b[0m     logger\u001b[38;5;241m.\u001b[39minfo(\u001b[38;5;124m'\u001b[39m\u001b[38;5;124m\"\u001b[39m\u001b[38;5;132;01m%s\u001b[39;00m\u001b[38;5;124m\"\u001b[39m\u001b[38;5;124m only supports 1 shot. Setting shots=1.\u001b[39m\u001b[38;5;124m'\u001b[39m, \u001b[38;5;28mself\u001b[39m\u001b[38;5;241m.\u001b[39mname())\n",
      "\u001b[1;31mBasicAerError\u001b[0m: 'Number of qubits 25 is greater than maximum (24) for \"statevector_simulator\".'"
     ]
    }
   ],
   "source": [
    "f(25)"
   ]
  }
 ],
 "metadata": {
  "kernelspec": {
   "display_name": "Python 3 (ipykernel)",
   "language": "python",
   "name": "python3"
  },
  "language_info": {
   "codemirror_mode": {
    "name": "ipython",
    "version": 3
   },
   "file_extension": ".py",
   "mimetype": "text/x-python",
   "name": "python",
   "nbconvert_exporter": "python",
   "pygments_lexer": "ipython3",
   "version": "3.11.9"
  }
 },
 "nbformat": 4,
 "nbformat_minor": 4
}
