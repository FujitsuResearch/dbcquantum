{
 "cells": [
  {
   "cell_type": "code",
   "execution_count": 1,
   "metadata": {},
   "outputs": [],
   "source": [
    "# See https://github.com/Qiskit/textbook/blob/main/notebooks/ch-algorithms/superdense-coding.ipynb\n",
    "from qiskit.quantum_info import Statevector\n",
    "from dbcquantum.circuit import AssertQuantumCircuit, AQCMeasure\n",
    "from dbcquantum.utils import eq_state\n",
    "from qiskit.opflow import Zero, One\n",
    "from math import sqrt"
   ]
  },
  {
   "cell_type": "code",
   "execution_count": 2,
   "metadata": {},
   "outputs": [],
   "source": [
    "# Choose one of the following:\n",
    "# message: str = \"00\"\n",
    "message: str = \"01\"\n",
    "# message: str = \"10\"\n",
    "# message: str = \"11\""
   ]
  },
  {
   "cell_type": "code",
   "execution_count": 3,
   "metadata": {},
   "outputs": [],
   "source": [
    "bell_circ = AssertQuantumCircuit(2)\n",
    "bell_circ.h(1)\n",
    "bell_circ.cx(1,0)\n",
    "\n",
    "bell_circ.add_pre_condition(\n",
    "    \"bell_input_|00>\",\n",
    "    lambda pre_state: eq_state(pre_state, Zero ^ Zero),  # type: ignore\n",
    ")\n",
    "\n",
    "bell_circ.add_post_condition(\n",
    "    \"bell_output_bell\",\n",
    "    lambda post_state: eq_state(post_state, 1 / sqrt(2) * ((Zero ^ Zero) + (One ^ One))),  # type: ignore\n",
    ")"
   ]
  },
  {
   "cell_type": "code",
   "execution_count": 4,
   "metadata": {},
   "outputs": [
    {
     "data": {
      "image/png": "[encoded data removed]",
      "text/plain": [
       "<Figure size 370.906x200.667 with 1 Axes>"
      ]
     },
     "execution_count": 4,
     "metadata": {},
     "output_type": "execute_result"
    }
   ],
   "source": [
    "encoded = AssertQuantumCircuit(2)\n",
    "encoded.append(bell_circ, [0,1])\n",
    "# encoded.barrier()\n",
    "\n",
    "if message == \"00\":\n",
    "    expected_encoded_state = 1 / sqrt(2) * ((Zero ^ Zero) + (One ^ One))  # type: ignore\n",
    "elif message == \"01\":\n",
    "    encoded.x(1)\n",
    "    expected_encoded_state = 1 / sqrt(2) * ((Zero ^ One) + (One ^ Zero))  # type: ignore\n",
    "elif message == \"10\":\n",
    "    encoded.z(1)\n",
    "    expected_encoded_state = 1 / sqrt(2) * ((Zero ^ Zero) - (One ^ One))  # type: ignore\n",
    "elif message == \"11\":\n",
    "    encoded.z(1)\n",
    "    encoded.x(1)\n",
    "    expected_encoded_state = 1 / sqrt(2) * ((Zero ^ One) - (One ^ Zero))  # type: ignore\n",
    "\n",
    "encoded.add_post_condition(\"encoded_state\", lambda post_state: eq_state(post_state, expected_encoded_state))\n",
    "\n",
    "encoded.remove_assertions().draw(\"mpl\")"
   ]
  },
  {
   "cell_type": "code",
   "execution_count": 5,
   "metadata": {},
   "outputs": [],
   "source": [
    "decoded: AssertQuantumCircuit[str] = AssertQuantumCircuit(2)\n",
    "decoded.append(encoded, [0,1])\n",
    "# decoded.barrier()\n",
    "decoded.cx(1,0)\n",
    "decoded.h(1)\n",
    "\n",
    "def decoded_cond(post_state: Statevector, param: str)-> bool:\n",
    "    if param == \"00\":\n",
    "        return eq_state(post_state, Zero ^ Zero) # type: ignore\n",
    "    elif param == \"01\":\n",
    "        return eq_state(post_state, Zero ^ One) # type: ignore\n",
    "    elif param == \"10\":\n",
    "        return eq_state(post_state, One ^ Zero) # type: ignore\n",
    "    else:\n",
    "        return eq_state(post_state, One ^ One) # type: ignore\n",
    "\n",
    "decoded.add_post_condition_use_param(\"decoded_cond\", decoded_cond)"
   ]
  },
  {
   "cell_type": "code",
   "execution_count": 6,
   "metadata": {},
   "outputs": [
    {
     "name": "stdout",
     "output_type": "stream",
     "text": [
      "{'01': 1000}\n"
     ]
    },
    {
     "data": {
      "image/png": "[encoded data removed]",
      "text/plain": [
       "<Figure size 705.35x284.278 with 1 Axes>"
      ]
     },
     "execution_count": 6,
     "metadata": {},
     "output_type": "execute_result"
    }
   ],
   "source": [
    "measure = AQCMeasure(decoded, lambda result: result.get_counts())\n",
    "# All measurement results are equal to message.\n",
    "measure.add_condition_use_param(\"measure_condition\", lambda pre_measure_state, result, count, param: count[param] == sum(count.values())) # type: ignore\n",
    "print(measure.run(shots=1000, param=message))\n",
    "measure.remove_assertions_to_circuit().draw(\"mpl\")"
   ]
  },
  {
   "cell_type": "code",
   "execution_count": 7,
   "metadata": {},
   "outputs": [
    {
     "name": "stdout",
     "output_type": "stream",
     "text": [
      "38.4 ms ± 4.61 ms per loop (mean ± std. dev. of 5 runs, 1 loop each)\n"
     ]
    }
   ],
   "source": [
    "%%timeit -n 1 -r 5\n",
    "measure.run(shots=1000, param=message)"
   ]
  },
  {
   "cell_type": "code",
   "execution_count": 8,
   "metadata": {},
   "outputs": [
    {
     "name": "stdout",
     "output_type": "stream",
     "text": [
      "#qubits=\n",
      "2\n",
      "\n",
      "#gates=\n",
      "7\n"
     ]
    }
   ],
   "source": [
    "print(\"#qubits=\")\n",
    "print(measure.num_qubits)\n",
    "print()\n",
    "print(\"#gates=\")\n",
    "print(sum(measure.remove_assertions_to_circuit().count_ops().values()))"
   ]
  }
 ],
 "metadata": {
  "kernelspec": {
   "display_name": "Python 3 (ipykernel)",
   "language": "python",
   "name": "python3"
  },
  "language_info": {
   "codemirror_mode": {
    "name": "ipython",
    "version": 3
   },
   "file_extension": ".py",
   "mimetype": "text/x-python",
   "name": "python",
   "nbconvert_exporter": "python",
   "pygments_lexer": "ipython3",
   "version": "3.11.9"
  }
 },
 "nbformat": 4,
 "nbformat_minor": 4
}
