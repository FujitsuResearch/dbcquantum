{
 "cells": [
  {
   "cell_type": "code",
   "execution_count": 1,
   "metadata": {},
   "outputs": [],
   "source": [
    "from dbcquantum.circuit import AssertQuantumCircuit\n",
    "from dbcquantum.utils import eq_state\n",
    "from qiskit.opflow import Plus, Zero"
   ]
  },
  {
   "cell_type": "code",
   "execution_count": 2,
   "metadata": {},
   "outputs": [
    {
     "name": "stdout",
     "output_type": "stream",
     "text": [
      "Statevector([0.        +0.j, 0.        +0.j, 0.        +0.j,\n",
      "             0.        +0.j, 0.        +0.j, 0.        +0.j,\n",
      "             0.70710678+0.j, 0.70710678+0.j],\n",
      "            dims=(2, 2, 2))\n"
     ]
    },
    {
     "data": {
      "image/png": "[encoded data removed]",
      "text/plain": [
       "<Figure size 621.941x284.278 with 1 Axes>"
      ]
     },
     "execution_count": 2,
     "metadata": {},
     "output_type": "execute_result"
    }
   ],
   "source": [
    "circ = AssertQuantumCircuit(3)\n",
    "circ.cx(0,1)\n",
    "circ.cx(0,2)\n",
    "# circ.barrier()\n",
    "\n",
    "#### insert_noise ####\n",
    "# You can uncomment one of the following:\n",
    "circ.x(0)\n",
    "# circ.x(1)\n",
    "# circ.x(2)\n",
    "# circ.barrier()\n",
    "\n",
    "circ.cx(0,1)\n",
    "circ.cx(0,2)\n",
    "circ.ccx(1,2,0)\n",
    "\n",
    "circ.add_pre_condition(\"cond1\", lambda pre_state: eq_state(pre_state, Zero), [1])\n",
    "circ.add_pre_condition(\"cond2\", lambda pre_state: eq_state(pre_state, Zero), [2])\n",
    "circ.add_condition(\"cond3\", lambda pre_state, post_state: eq_state(pre_state, post_state), [0])\n",
    "\n",
    "print(circ.run(init_state=Zero^Zero^Plus))\n",
    "\n",
    "circ.remove_assertions().draw(\"mpl\")"
   ]
  },
  {
   "cell_type": "code",
   "execution_count": 3,
   "metadata": {},
   "outputs": [
    {
     "name": "stdout",
     "output_type": "stream",
     "text": [
      "40.9 ms ± 5.23 ms per loop (mean ± std. dev. of 5 runs, 1 loop each)\n"
     ]
    }
   ],
   "source": [
    "%%timeit -n 1 -r 5\n",
    "circ.run(init_state=Zero^Zero^Plus)"
   ]
  },
  {
   "cell_type": "code",
   "execution_count": 4,
   "metadata": {},
   "outputs": [
    {
     "name": "stdout",
     "output_type": "stream",
     "text": [
      "#qubits=\n",
      "3\n",
      "\n",
      "#gates=\n",
      "6\n"
     ]
    }
   ],
   "source": [
    "print(\"#qubits=\")\n",
    "print(circ.num_qubits)\n",
    "print()\n",
    "print(\"#gates=\")\n",
    "print(sum(circ.remove_assertions().count_ops().values()))"
   ]
  }
 ],
 "metadata": {
  "kernelspec": {
   "display_name": "Python 3 (ipykernel)",
   "language": "python",
   "name": "python3"
  },
  "language_info": {
   "codemirror_mode": {
    "name": "ipython",
    "version": 3
   },
   "file_extension": ".py",
   "mimetype": "text/x-python",
   "name": "python",
   "nbconvert_exporter": "python",
   "pygments_lexer": "ipython3",
   "version": "3.11.9"
  }
 },
 "nbformat": 4,
 "nbformat_minor": 4
}
