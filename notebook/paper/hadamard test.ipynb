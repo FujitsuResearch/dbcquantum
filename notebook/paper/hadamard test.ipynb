{
 "cells": [
  {
   "cell_type": "code",
   "execution_count": 1,
   "metadata": {},
   "outputs": [],
   "source": [
    "import cmath\n",
    "import math\n",
    "import typing\n",
    "\n",
    "from qiskit.circuit.gate import Gate\n",
    "from qiskit.circuit.library.standard_gates import TGate\n",
    "from qiskit.opflow import One, OperatorBase, Plus, StateFn, Zero, I\n",
    "from qiskit.opflow.primitive_ops.primitive_op import PrimitiveOp\n",
    "from qiskit.quantum_info import Statevector\n",
    "from qiskit.quantum_info.operators.operator import Operator\n",
    "from qiskit.result.counts import Counts\n",
    "from qiskit.result.result import Result\n",
    "\n",
    "from dbcquantum.circuit import AQCMeasure, AssertQuantumCircuit\n",
    "from dbcquantum.utils import eq_state, partial_state"
   ]
  },
  {
   "cell_type": "code",
   "execution_count": 2,
   "metadata": {},
   "outputs": [],
   "source": [
    "def make_circ_hadamal_test(Ugate: Gate, U: OperatorBase) -> AssertQuantumCircuit:\n",
    "    size = Ugate.num_qubits + 1\n",
    "    circ = AssertQuantumCircuit(size)\n",
    "    circ.h(0)\n",
    "    circ.append(Ugate.control(), range(size))\n",
    "    circ.h(0)\n",
    "\n",
    "    def condition(pre_state: Statevector, post_state: Statevector) -> bool:\n",
    "        psi = StateFn(partial_state(pre_state, range(1, size)))\n",
    "        state_0 = (((I+U)@ psi) / 2) ^ Zero  # type: ignore\n",
    "        state_1 = (((I-U)@ psi) / 2) ^ One  # type: ignore\n",
    "        return eq_state(post_state, state_0 + state_1)\n",
    "\n",
    "    circ.add_condition(\"condition1\", condition)\n",
    "    return circ\n"
   ]
  },
  {
   "cell_type": "code",
   "execution_count": 3,
   "metadata": {},
   "outputs": [
    {
     "name": "stdout",
     "output_type": "stream",
     "text": [
      "Statevector([7.07106781e-01+0.j  , 2.29934717e-17+0.j  ,\n",
      "             6.03553391e-01+0.25j, 1.03553391e-01-0.25j],\n",
      "            dims=(2, 2))\n"
     ]
    }
   ],
   "source": [
    "# U: OperatorBase = T\n",
    "U: OperatorBase = PrimitiveOp(Operator([[1, 0], [0, cmath.exp(1j * math.pi / 4)]]))\n",
    "psi = Plus\n",
    "Ugate: Gate = TGate()\n",
    "circ_hadamard_test = make_circ_hadamal_test(Ugate, U)\n",
    "circ_hadamard_test.run(init_state=psi ^ Zero)"
   ]
  },
  {
   "cell_type": "code",
   "execution_count": 4,
   "metadata": {},
   "outputs": [
    {
     "name": "stdout",
     "output_type": "stream",
     "text": [
      "0.85242\n"
     ]
    }
   ],
   "source": [
    "# U: OperatorBase = T\n",
    "U: OperatorBase = PrimitiveOp(Operator([[1, 0], [0, cmath.exp(1j * math.pi / 4)]]))\n",
    "psi = Plus\n",
    "circ = AssertQuantumCircuit(2)\n",
    "circ.h(1)\n",
    "circ.append(make_circ_hadamal_test(TGate(), U), [0, 1])\n",
    "\n",
    "def postprocess(result: Result) -> float:\n",
    "    counts: Counts = typing.cast(Counts, result.get_counts())\n",
    "    return (counts[\"0\"] - counts[\"1\"]) / (counts[\"0\"] + counts[\"1\"])\n",
    "\n",
    "def measure_condition(\n",
    "    pre_measure_state: Statevector,\n",
    "    result: Result,\n",
    "    est_exp: float,\n",
    "):\n",
    "    expectd_exp = ((~psi) @ U @ psi).eval().real  # type: ignore\n",
    "    return cmath.isclose(expectd_exp, est_exp, abs_tol=0.01)\n",
    "\n",
    "circ_measure: AQCMeasure = AQCMeasure(\n",
    "    circ, postprocess=postprocess, qubit=[0]\n",
    ")\n",
    "\n",
    "circ_measure.add_condition(\n",
    "    \"condition2\", measure_condition\n",
    ")\n",
    "\n",
    "print(circ_measure.run(shots=100_000))"
   ]
  },
  {
   "cell_type": "code",
   "execution_count": 5,
   "metadata": {},
   "outputs": [
    {
     "name": "stdout",
     "output_type": "stream",
     "text": [
      "172 ms ± 7.02 ms per loop (mean ± std. dev. of 5 runs, 1 loop each)\n"
     ]
    }
   ],
   "source": [
    "%%timeit -n 1 -r 5\n",
    "circ_measure.run(shots=100_000)"
   ]
  },
  {
   "cell_type": "code",
   "execution_count": 6,
   "metadata": {},
   "outputs": [
    {
     "name": "stdout",
     "output_type": "stream",
     "text": [
      "#qubits=\n",
      "2\n",
      "\n",
      "#gates=\n",
      "5\n"
     ]
    }
   ],
   "source": [
    "print(\"#qubits=\")\n",
    "print(circ_measure.num_qubits)\n",
    "print()\n",
    "print(\"#gates=\")\n",
    "print(sum(circ_measure.remove_assertions_to_circuit().count_ops().values()))\n"
   ]
  },
  {
   "cell_type": "code",
   "execution_count": 7,
   "metadata": {},
   "outputs": [
    {
     "data": {
      "image/png": "[encoded data removed]",
      "text/plain": [
       "<Figure size 454.517x284.278 with 1 Axes>"
      ]
     },
     "execution_count": 7,
     "metadata": {},
     "output_type": "execute_result"
    }
   ],
   "source": [
    "circ_measure.remove_assertions_to_circuit().draw(\"mpl\")"
   ]
  }
 ],
 "metadata": {
  "kernelspec": {
   "display_name": "Python 3 (ipykernel)",
   "language": "python",
   "name": "python3"
  },
  "language_info": {
   "codemirror_mode": {
    "name": "ipython",
    "version": 3
   },
   "file_extension": ".py",
   "mimetype": "text/x-python",
   "name": "python",
   "nbconvert_exporter": "python",
   "pygments_lexer": "ipython3",
   "version": "3.11.9"
  }
 },
 "nbformat": 4,
 "nbformat_minor": 4
}
