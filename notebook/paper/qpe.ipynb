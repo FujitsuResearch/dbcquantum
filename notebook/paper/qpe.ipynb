{
 "cells": [
  {
   "cell_type": "code",
   "execution_count": 1,
   "metadata": {},
   "outputs": [],
   "source": [
    "from math import pi, sqrt\n",
    "from cmath import exp\n",
    "from qiskit.opflow import One, StateFn, Zero, Plus\n",
    "from qiskit.quantum_info import Statevector\n",
    "\n",
    "from dbcquantum.circuit import AssertQuantumCircuit\n",
    "from dbcquantum.utils import (\n",
    "    bin_frac_to_dec,\n",
    "    eq_state,\n",
    "    split_each_qubit_states,\n",
    ")"
   ]
  },
  {
   "cell_type": "code",
   "execution_count": 2,
   "metadata": {},
   "outputs": [],
   "source": [
    "def make_qft(n: int) -> AssertQuantumCircuit:\n",
    "    from qiskit.circuit.library import QFT\n",
    "    qft = AssertQuantumCircuit(num_qubits=n)\n",
    "    qft.append(QFT(n), range(n))\n",
    "\n",
    "    for i in range(qft.num_qubits):\n",
    "        qft.add_pre_condition(\n",
    "            f\"QFT: qubit {i} must be |0> or |1>.\",\n",
    "            lambda pre: eq_state(pre, Zero) or eq_state(pre, One),\n",
    "            focus_qubits=[i],\n",
    "        )\n",
    "\n",
    "    def condition(pre: Statevector, post: Statevector) -> bool:\n",
    "        # example: |0010> -> [|0>, |1>, |0>, |0>]\n",
    "        splitted_input_state: list[Statevector] = split_each_qubit_states(\n",
    "            pre\n",
    "        )\n",
    "\n",
    "        # example:[|0>, |1>, |0>, |0>] -> [0,1,0,0]\n",
    "        pre_01: list[int] = [\n",
    "            0 if eq_state(state, Zero) else 1 for state in splitted_input_state\n",
    "        ]\n",
    "\n",
    "        expected = StateFn(\"\")\n",
    "        for i in range(0, n):\n",
    "            coeff = exp(\n",
    "                2j * pi * bin_frac_to_dec(pre_01[0:i+1])\n",
    "            )\n",
    "            # print(input_state_01[0:i+1])\n",
    "            expected = expected ^ ((1 / sqrt(2)) * (Zero + coeff * One))  # type: ignore\n",
    "        return eq_state(post, expected)\n",
    "\n",
    "    qft.add_condition(\"QFT: state and phase.\", condition)\n",
    "\n",
    "    return qft"
   ]
  },
  {
   "cell_type": "code",
   "execution_count": 3,
   "metadata": {},
   "outputs": [
    {
     "name": "stdout",
     "output_type": "stream",
     "text": [
      "Statevector([ 2.50000000e-01+0.j       ,  1.76776695e-01+0.1767767j,\n",
      "              1.53080850e-17+0.25j     , -1.76776695e-01+0.1767767j,\n",
      "             -2.50000000e-01+0.j       , -1.76776695e-01-0.1767767j,\n",
      "             -1.53080850e-17-0.25j     ,  1.76776695e-01-0.1767767j,\n",
      "              2.50000000e-01+0.j       ,  1.76776695e-01+0.1767767j,\n",
      "              1.53080850e-17+0.25j     , -1.76776695e-01+0.1767767j,\n",
      "             -2.50000000e-01+0.j       , -1.76776695e-01-0.1767767j,\n",
      "             -1.53080850e-17-0.25j     ,  1.76776695e-01-0.1767767j],\n",
      "            dims=(2, 2, 2, 2))\n"
     ]
    }
   ],
   "source": [
    "qft = make_qft(4)\n",
    "qft.run(init_state=Zero ^ Zero ^ One ^ Zero)\n",
    "# j_0 = Zero, j_1 = One, j_2 = Zero, j_3 = Zero"
   ]
  },
  {
   "cell_type": "code",
   "execution_count": 4,
   "metadata": {},
   "outputs": [
    {
     "data": {
      "image/png": "[encoded data removed]",
      "text/plain": [
       "<Figure size 1541.66x367.889 with 1 Axes>"
      ]
     },
     "execution_count": 4,
     "metadata": {},
     "output_type": "execute_result"
    }
   ],
   "source": [
    "qft.remove_assertions().decompose().draw(\"mpl\")"
   ]
  },
  {
   "cell_type": "code",
   "execution_count": 5,
   "metadata": {},
   "outputs": [
    {
     "name": "stdout",
     "output_type": "stream",
     "text": [
      "389 ms ± 12.2 ms per loop (mean ± std. dev. of 5 runs, 1 loop each)\n"
     ]
    }
   ],
   "source": [
    "%%timeit -n 1 -r 5\n",
    "qft = make_qft(12)\n",
    "qft.run(init_state=Zero ^ Zero ^ One ^ Zero ^ Zero ^ Zero ^ One ^ Zero ^ Zero ^ Zero ^ Zero ^ Zero)"
   ]
  },
  {
   "cell_type": "code",
   "execution_count": 6,
   "metadata": {},
   "outputs": [
    {
     "name": "stdout",
     "output_type": "stream",
     "text": [
      "#qubits=\n",
      "12\n",
      "\n",
      "#gates=\n",
      "1\n"
     ]
    }
   ],
   "source": [
    "qft = make_qft(12)\n",
    "print(\"#qubits=\")\n",
    "print(qft.num_qubits)\n",
    "print()\n",
    "print(\"#gates=\")\n",
    "print(sum(qft.remove_assertions().count_ops().values()))"
   ]
  },
  {
   "cell_type": "code",
   "execution_count": 7,
   "metadata": {},
   "outputs": [
    {
     "name": "stdout",
     "output_type": "stream",
     "text": [
      "23.3 s ± 4.04 s per loop (mean ± std. dev. of 5 runs, 1 loop each)\n"
     ]
    }
   ],
   "source": [
    "%%timeit -n 1 -r 5\n",
    "qft = make_qft(18)\n",
    "qft.run()"
   ]
  },
  {
   "cell_type": "code",
   "execution_count": 8,
   "metadata": {},
   "outputs": [
    {
     "name": "stdout",
     "output_type": "stream",
     "text": [
      "#qubits=\n",
      "18\n",
      "\n",
      "#gates=\n",
      "1\n"
     ]
    }
   ],
   "source": [
    "qft = make_qft(18)\n",
    "print(\"#qubits=\")\n",
    "print(qft.num_qubits)\n",
    "print()\n",
    "print(\"#gates=\")\n",
    "print(sum(qft.remove_assertions().count_ops().values()))"
   ]
  },
  {
   "cell_type": "code",
   "execution_count": 9,
   "metadata": {},
   "outputs": [
    {
     "name": "stdout",
     "output_type": "stream",
     "text": [
      "27min 41s ± 3min 10s per loop (mean ± std. dev. of 5 runs, 1 loop each)\n"
     ]
    }
   ],
   "source": [
    "%%timeit -n 1 -r 5\n",
    "qft = make_qft(24)\n",
    "qft.run()"
   ]
  },
  {
   "cell_type": "code",
   "execution_count": 10,
   "metadata": {},
   "outputs": [
    {
     "name": "stdout",
     "output_type": "stream",
     "text": [
      "#qubits=\n",
      "24\n",
      "\n",
      "#gates=\n",
      "1\n"
     ]
    }
   ],
   "source": [
    "qft = make_qft(24)\n",
    "print(\"#qubits=\")\n",
    "print(qft.num_qubits)\n",
    "print()\n",
    "print(\"#gates=\")\n",
    "print(sum(qft.remove_assertions().count_ops().values()))"
   ]
  },
  {
   "cell_type": "code",
   "execution_count": 11,
   "metadata": {
    "tags": [
     "raises-exception"
    ]
   },
   "outputs": [
    {
     "name": "stdout",
     "output_type": "stream",
     "text": [
      "Exception reporting mode: Minimal\n"
     ]
    },
    {
     "ename": "StateConditionError",
     "evalue": "Condition Error occured in 'QFT: qubit 0 must be |0> or |1>.'\n[Info]\ncondition_name='QFT: qubit 0 must be |0> or |1>.'\npre_state=\n  Statevector([0.        +0.j, 0.        +0.j, 0.70710678+0.j,\n               0.70710678+0.j, 0.        +0.j, 0.        +0.j,\n               0.        +0.j, 0.        +0.j, 0.        +0.j,\n               0.        +0.j, 0.        +0.j, 0.        +0.j,\n               0.        +0.j, 0.        +0.j, 0.        +0.j,\n               0.        +0.j],\n              dims=(2, 2, 2, 2))\npost_state=None\nparam=None",
     "output_type": "error",
     "traceback": [
      "\u001b[1;31mStateConditionError\u001b[0m\u001b[1;31m:\u001b[0m Condition Error occured in 'QFT: qubit 0 must be |0> or |1>.'\n[Info]\ncondition_name='QFT: qubit 0 must be |0> or |1>.'\npre_state=\n  Statevector([0.        +0.j, 0.        +0.j, 0.70710678+0.j,\n               0.70710678+0.j, 0.        +0.j, 0.        +0.j,\n               0.        +0.j, 0.        +0.j, 0.        +0.j,\n               0.        +0.j, 0.        +0.j, 0.        +0.j,\n               0.        +0.j, 0.        +0.j, 0.        +0.j,\n               0.        +0.j],\n              dims=(2, 2, 2, 2))\npost_state=None\nparam=None\n"
     ]
    }
   ],
   "source": [
    "%xmode Minimal\n",
    "qft = make_qft(4)\n",
    "qft.run(init_state=Zero ^ Zero ^ One ^ Plus)"
   ]
  },
  {
   "cell_type": "code",
   "execution_count": 12,
   "metadata": {},
   "outputs": [],
   "source": [
    "from qiskit.circuit import Gate\n",
    "def make_qpe(U: Gate, n: int) -> AssertQuantumCircuit[int]:\n",
    "    total: int = U.num_qubits + n\n",
    "    circ: AssertQuantumCircuit[int] = AssertQuantumCircuit(total)\n",
    "\n",
    "    for i in range(n):\n",
    "        circ.h(i)\n",
    "        circ.append(\n",
    "            U.power(2**i).control(num_ctrl_qubits=1),\n",
    "            [i, *range(n, total)],\n",
    "        )\n",
    "\n",
    "    circ.append(\n",
    "        make_qft(n).inverse(),\n",
    "        range(n),\n",
    "    )\n",
    "\n",
    "    for i in range(n):\n",
    "        circ.add_pre_condition(\n",
    "            f\"QPE: qubit {i} must be |0>.\",\n",
    "            lambda s: eq_state(s, Zero),\n",
    "            focus_qubits=[i],\n",
    "        )\n",
    "    \n",
    "    circ.add_condition(\n",
    "        \"QPE: post-state is equal to pre-state\",\n",
    "        lambda prestate, poststate: eq_state(prestate, poststate),\n",
    "        focus_qubits = range(n, total)\n",
    "    )\n",
    "    \n",
    "    def post_condition(post: Statevector, param: int) -> bool:\n",
    "        return eq_state(\n",
    "            Statevector.from_int(param, post.dims()), post\n",
    "        )\n",
    "\n",
    "    circ.add_post_condition_use_param(\n",
    "        \"QPE: postcondition\",\n",
    "        post_condition,\n",
    "        focus_qubits=range(n),\n",
    "    )\n",
    "\n",
    "    return circ"
   ]
  },
  {
   "cell_type": "code",
   "execution_count": 13,
   "metadata": {},
   "outputs": [
    {
     "name": "stdout",
     "output_type": "stream",
     "text": [
      "Statevector([ 0.00000000e+00+0.00000000e+00j,\n",
      "              0.00000000e+00+0.00000000e+00j,\n",
      "              0.00000000e+00+0.00000000e+00j,\n",
      "              0.00000000e+00+0.00000000e+00j,\n",
      "              0.00000000e+00+0.00000000e+00j,\n",
      "              0.00000000e+00+0.00000000e+00j,\n",
      "              0.00000000e+00+0.00000000e+00j,\n",
      "              0.00000000e+00+0.00000000e+00j,\n",
      "              0.00000000e+00+0.00000000e+00j,\n",
      "              0.00000000e+00+0.00000000e+00j,\n",
      "              0.00000000e+00+0.00000000e+00j,\n",
      "              0.00000000e+00+0.00000000e+00j,\n",
      "              0.00000000e+00+0.00000000e+00j,\n",
      "              0.00000000e+00+0.00000000e+00j,\n",
      "              0.00000000e+00+0.00000000e+00j,\n",
      "              0.00000000e+00+0.00000000e+00j,\n",
      "             -2.09008708e-17+4.42055068e-17j,\n",
      "             -9.08073792e-17+1.83855468e-17j,\n",
      "              1.00000000e+00-2.09605444e-16j,\n",
      "              8.94331288e-17+8.47532085e-18j,\n",
      "              3.27087709e-17-1.35893368e-17j,\n",
      "              3.03300374e-17+1.47307525e-17j,\n",
      "             -3.36731597e-18-3.67848024e-18j,\n",
      "              1.60929074e-17+1.41615194e-17j,\n",
      "              2.09260092e-18-1.78143665e-18j,\n",
      "              1.92744584e-17+1.79789911e-17j,\n",
      "             -8.74065022e-17+2.59084245e-17j,\n",
      "             -1.31381041e-17+1.63924812e-17j,\n",
      "              9.71529920e-18+3.23976066e-17j,\n",
      "             -1.52673526e-17+1.48991534e-17j,\n",
      "             -1.01019479e-17+3.67848024e-18j,\n",
      "             -2.63934883e-17+1.74409146e-17j],\n",
      "            dims=(2, 2, 2, 2, 2))\n"
     ]
    }
   ],
   "source": [
    "from qiskit.circuit.library.standard_gates import TGate\n",
    "\n",
    "qpe = make_qpe(TGate(), n=4)\n",
    "print(qpe.run(init_state = One^Zero^Zero^Zero^Zero, param=0b0010))"
   ]
  },
  {
   "cell_type": "code",
   "execution_count": 14,
   "metadata": {},
   "outputs": [],
   "source": [
    "from qiskit.circuit.library.standard_gates import TGate\n",
    "from qiskit.opflow import One, Zero\n",
    "from typing import Any\n",
    "from dbcquantum.circuit import AQCMeasure"
   ]
  },
  {
   "cell_type": "code",
   "execution_count": 15,
   "metadata": {},
   "outputs": [
    {
     "data": {
      "image/png": "[encoded data removed]",
      "text/plain": [
       "<Figure size 1207.22x535.111 with 1 Axes>"
      ]
     },
     "execution_count": 15,
     "metadata": {},
     "output_type": "execute_result"
    }
   ],
   "source": [
    "U = TGate()\n",
    "n = 4\n",
    "total = n + U.num_qubits\n",
    "\n",
    "circ_init = AssertQuantumCircuit(1)\n",
    "circ_init.x(0)\n",
    "circ_init.add_pre_condition(\n",
    "    \"Initial circuit: State must be zero.\", lambda s: eq_state(s, Zero)\n",
    ")\n",
    "circ_init.add_post_condition(\n",
    "    \"Initial circuit: State must be one.\", lambda s: eq_state(s, One)\n",
    ")\n",
    "\n",
    "circ = AssertQuantumCircuit(total)\n",
    "circ.append(circ_init, range(n, total))\n",
    "circ.append(make_qpe(U, n), range(total))\n",
    "\n",
    "measured: AQCMeasure[Any, str] = AQCMeasure(\n",
    "    circ, postprocess=lambda r: r.get_counts(), qubit=range(n)\n",
    ")\n",
    "measured.remove_assertions_to_circuit().draw(\"mpl\")"
   ]
  },
  {
   "cell_type": "code",
   "execution_count": 16,
   "metadata": {},
   "outputs": [],
   "source": [
    "def to_binary(a: float, n: int) -> int:\n",
    "    ans = 0\n",
    "\n",
    "    for i in range(1, n + 1):\n",
    "        if (1 / (2**i)) <= a:\n",
    "            ans = ans << 1\n",
    "            ans = ans + 1\n",
    "            a -= 1 / (2**i)\n",
    "        else:\n",
    "            ans = ans << 1\n",
    "\n",
    "    return ans"
   ]
  },
  {
   "cell_type": "code",
   "execution_count": 17,
   "metadata": {},
   "outputs": [],
   "source": [
    "import numpy.linalg as LA\n",
    "from cmath import log\n",
    "\n",
    "def calc_eig(U: Gate, n: int) -> tuple[list[Statevector], list[int]]:\n",
    "    eigen = LA.eig(U.to_matrix())\n",
    "\n",
    "    states = []\n",
    "    values = []\n",
    "\n",
    "    for i in range(len(eigen[0])):\n",
    "        eigenstate = Statevector(eigen[1][:, i])\n",
    "        eigenvalue = eigen[0][i]\n",
    "        states.append(eigenstate)\n",
    "        phi: float = (log(eigenvalue) / (1j * 2 * pi)).real\n",
    "        values.append(to_binary(phi, n))\n",
    "    \n",
    "    return (states, values)"
   ]
  },
  {
   "cell_type": "code",
   "execution_count": 18,
   "metadata": {},
   "outputs": [
    {
     "name": "stdout",
     "output_type": "stream",
     "text": [
      "{'0010': 130, '0000': 870}\n"
     ]
    }
   ],
   "source": [
    "T = tuple[list[Statevector], list[int]]\n",
    "\n",
    "def whole_qpe(init_circ: AssertQuantumCircuit, U: Gate, n: int) -> AQCMeasure[dict, T]: \n",
    "    n_total = n + U.num_qubits\n",
    "\n",
    "    circ: AssertQuantumCircuit[T] = AssertQuantumCircuit(n_total)\n",
    "    circ.append(init_circ, range(n, n_total))\n",
    "    # circ.barrier()\n",
    "    circ.append_superposition_basis_from_param(\n",
    "        \"superposition\",\n",
    "        make_qpe(U, n),\n",
    "        qargs=range(n_total),\n",
    "        pre_state_basis=lambda p: p[0],\n",
    "        focus_qubits=range(n, n_total),\n",
    "        param_converter=lambda p: p[1],\n",
    "    )\n",
    "\n",
    "    return AQCMeasure(\n",
    "        circ, \n",
    "        postprocess=lambda r: r.get_counts(), # type: ignore\n",
    "        qubit=range(n)\n",
    "    )\n",
    "\n",
    "U = TGate()\n",
    "n = 4\n",
    "init_circ = AssertQuantumCircuit(1)\n",
    "init_circ.rx(1 / 4 * pi, 0)\n",
    "\n",
    "l = whole_qpe(init_circ, U, n).run(\n",
    "    shots=1000, param=calc_eig(U, n)\n",
    ")\n",
    "print(l)"
   ]
  },
  {
   "cell_type": "code",
   "execution_count": 19,
   "metadata": {},
   "outputs": [
    {
     "name": "stdout",
     "output_type": "stream",
     "text": [
      "1.5 s ± 20.5 ms per loop (mean ± std. dev. of 5 runs, 1 loop each)\n"
     ]
    }
   ],
   "source": [
    "%%timeit -n 1 -r 5\n",
    "n = 12\n",
    "\n",
    "whole_qpe(init_circ, U, n).run(\n",
    "    shots=1000, param=calc_eig(U, n)\n",
    ")"
   ]
  },
  {
   "cell_type": "code",
   "execution_count": 20,
   "metadata": {},
   "outputs": [
    {
     "name": "stdout",
     "output_type": "stream",
     "text": [
      "#qubits=\n",
      "13\n",
      "\n",
      "#gates=\n",
      "38\n"
     ]
    }
   ],
   "source": [
    "n = 12\n",
    "print(\"#qubits=\")\n",
    "print(whole_qpe(init_circ, U, n).num_qubits)\n",
    "print()\n",
    "print(\"#gates=\")\n",
    "print(sum(whole_qpe(init_circ, U, n).remove_assertions_to_circuit().count_ops().values()))"
   ]
  },
  {
   "cell_type": "code",
   "execution_count": 21,
   "metadata": {},
   "outputs": [
    {
     "name": "stdout",
     "output_type": "stream",
     "text": [
      "1min 36s ± 4.45 s per loop (mean ± std. dev. of 5 runs, 1 loop each)\n"
     ]
    }
   ],
   "source": [
    "%%timeit -n 1 -r 5\n",
    "n = 18\n",
    "\n",
    "whole_qpe(init_circ, U, n).run(\n",
    "    shots=1000, param=calc_eig(U, n)\n",
    ")"
   ]
  },
  {
   "cell_type": "code",
   "execution_count": 22,
   "metadata": {},
   "outputs": [
    {
     "name": "stdout",
     "output_type": "stream",
     "text": [
      "#qubits=\n",
      "19\n",
      "\n",
      "#gates=\n",
      "56\n"
     ]
    }
   ],
   "source": [
    "n = 18\n",
    "print(\"#qubits=\")\n",
    "print(whole_qpe(init_circ, U, n).num_qubits)\n",
    "print()\n",
    "print(\"#gates=\")\n",
    "print(sum(whole_qpe(init_circ, U, n).remove_assertions_to_circuit().count_ops().values()))"
   ]
  },
  {
   "cell_type": "code",
   "execution_count": 23,
   "metadata": {},
   "outputs": [
    {
     "name": "stdout",
     "output_type": "stream",
     "text": [
      "1h 4min 59s ± 9min 21s per loop (mean ± std. dev. of 5 runs, 1 loop each)\n"
     ]
    }
   ],
   "source": [
    "%%timeit -n 1 -r 5\n",
    "n = 23\n",
    "\n",
    "whole_qpe(init_circ, U, n).run(\n",
    "    shots=1000, param=calc_eig(U, n)\n",
    ")"
   ]
  },
  {
   "cell_type": "code",
   "execution_count": 24,
   "metadata": {},
   "outputs": [
    {
     "name": "stdout",
     "output_type": "stream",
     "text": [
      "#qubits=\n",
      "24\n",
      "\n",
      "#gates=\n",
      "71\n"
     ]
    }
   ],
   "source": [
    "n = 23\n",
    "print(\"#qubits=\")\n",
    "print(whole_qpe(init_circ, U, n).num_qubits)\n",
    "print()\n",
    "print(\"#gates=\")\n",
    "print(sum(whole_qpe(init_circ, U, n).remove_assertions_to_circuit().count_ops().values()))"
   ]
  }
 ],
 "metadata": {
  "kernelspec": {
   "display_name": "Python 3 (ipykernel)",
   "language": "python",
   "name": "python3"
  },
  "language_info": {
   "codemirror_mode": {
    "name": "ipython",
    "version": 3
   },
   "file_extension": ".py",
   "mimetype": "text/x-python",
   "name": "python",
   "nbconvert_exporter": "python",
   "pygments_lexer": "ipython3",
   "version": "3.11.9"
  }
 },
 "nbformat": 4,
 "nbformat_minor": 4
}
